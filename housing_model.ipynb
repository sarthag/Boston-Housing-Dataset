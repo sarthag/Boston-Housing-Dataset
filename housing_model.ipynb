{
 "cells": [
  {
   "cell_type": "code",
   "execution_count": 1,
   "metadata": {},
   "outputs": [],
   "source": [
    "import numpy as np\n",
    "import pandas as pd\n",
    "import matplotlib.pyplot as plt\n",
    "%matplotlib inline\n",
    "from sklearn.model_selection import StratifiedShuffleSplit"
   ]
  },
  {
   "cell_type": "code",
   "execution_count": 2,
   "metadata": {},
   "outputs": [],
   "source": [
    "#Reading the Data\n",
    "\n",
    "housing_df  = pd.read_csv(\"data.csv\")"
   ]
  },
  {
   "cell_type": "code",
   "execution_count": 3,
   "metadata": {},
   "outputs": [],
   "source": [
    "#Splitting the data into test and train sets\n",
    "\n",
    "split = StratifiedShuffleSplit(n_splits=1, test_size=0.15, random_state=42)\n",
    "\n",
    "for train_index, test_index in split.split(housing_df, housing_df['CHAS']):\n",
    "    strat_train_set = housing_df.loc[train_index]\n",
    "    strat_test_set = housing_df.loc[test_index]"
   ]
  },
  {
   "cell_type": "code",
   "execution_count": 4,
   "metadata": {},
   "outputs": [
    {
     "data": {
      "text/plain": [
       "MEDV       1.000000\n",
       "RM         0.692316\n",
       "B          0.356281\n",
       "ZN         0.340606\n",
       "DIS        0.246130\n",
       "CHAS       0.191143\n",
       "AGE       -0.360431\n",
       "RAD       -0.376433\n",
       "CRIM      -0.393317\n",
       "NOX       -0.427752\n",
       "TAX       -0.464745\n",
       "INOUS     -0.478351\n",
       "PTRATIO   -0.497006\n",
       "LSTAT     -0.741615\n",
       "Name: MEDV, dtype: float64"
      ]
     },
     "execution_count": 4,
     "metadata": {},
     "output_type": "execute_result"
    }
   ],
   "source": [
    "#checking coorelations\n",
    "\n",
    "coor_matrix = strat_train_set.corr()\n",
    "coor_matrix['MEDV'].sort_values(ascending = False)"
   ]
  },
  {
   "cell_type": "code",
   "execution_count": 5,
   "metadata": {},
   "outputs": [],
   "source": [
    "housing = strat_train_set.drop(\"MEDV\", axis = 1)\n",
    "housing_labels = strat_train_set['MEDV'].copy()"
   ]
  },
  {
   "cell_type": "markdown",
   "metadata": {},
   "source": [
    "SCIKIT LEARN: \n",
    "1. Estimators: Estimates parameters based on the dataset\n",
    "Fit - claculates parameters and fits dataset\n",
    "\n",
    "2. Transformers: Gives outputs based on learnings from fit()\n",
    "fit_transform() - fits then transforms\n",
    "\n",
    "3. Predictors has fit(), predict() and score()"
   ]
  },
  {
   "cell_type": "code",
   "execution_count": 6,
   "metadata": {},
   "outputs": [],
   "source": [
    "from sklearn.pipeline import Pipeline\n",
    "from sklearn.impute import SimpleImputer\n",
    "from sklearn.preprocessing import StandardScaler\n",
    "\n",
    "my_pipeline = Pipeline([\n",
    "    ('imputer', SimpleImputer(strategy = 'median')),\n",
    "    ('std_scaler', StandardScaler())\n",
    "    \n",
    "])"
   ]
  },
  {
   "cell_type": "code",
   "execution_count": 7,
   "metadata": {},
   "outputs": [],
   "source": [
    "#Imputing for misssing values\n",
    "\n",
    "housing_num = my_pipeline.fit_transform(housing)"
   ]
  },
  {
   "cell_type": "code",
   "execution_count": 8,
   "metadata": {},
   "outputs": [
    {
     "data": {
      "text/plain": [
       "RandomForestRegressor()"
      ]
     },
     "execution_count": 8,
     "metadata": {},
     "output_type": "execute_result"
    }
   ],
   "source": [
    "#selecting the model\n",
    "\n",
    "from sklearn.linear_model import LinearRegression\n",
    "from sklearn.tree import DecisionTreeRegressor\n",
    "from sklearn.ensemble import RandomForestRegressor\n",
    "from sklearn.metrics import mean_squared_error\n",
    "model = RandomForestRegressor()\n",
    "model.fit(housing_num, housing_labels)"
   ]
  },
  {
   "cell_type": "code",
   "execution_count": 9,
   "metadata": {},
   "outputs": [
    {
     "name": "stdout",
     "output_type": "stream",
     "text": [
      "1.2481814753267395\n"
     ]
    }
   ],
   "source": [
    "housing_predictions = model.predict(housing_num)\n",
    "mse = mean_squared_error(housing_labels, housing_predictions)\n",
    "rmse = np.sqrt(mse)\n",
    "print(rmse)"
   ]
  },
  {
   "cell_type": "code",
   "execution_count": 10,
   "metadata": {},
   "outputs": [
    {
     "name": "stdout",
     "output_type": "stream",
     "text": [
      "[2.90747998 2.8248946  2.97493697 2.70042158 2.99863486 2.74915219\n",
      " 5.4183665  2.81154813 3.55632615 3.3851061 ]\n"
     ]
    }
   ],
   "source": [
    "#Cross Validation\n",
    "\n",
    "from sklearn.model_selection import cross_val_score\n",
    "\n",
    "scores = cross_val_score(model, housing_num, housing_labels, scoring = \"neg_mean_squared_error\", cv = 10)\n",
    "rmse_scores = np.sqrt(-scores)\n",
    "\n",
    "print(rmse_scores)"
   ]
  },
  {
   "cell_type": "code",
   "execution_count": 11,
   "metadata": {},
   "outputs": [],
   "source": [
    "def print_scores(scores):\n",
    "    print(\"Scores: \", scores)\n",
    "    print(\"Mean: \", scores.mean())\n",
    "    print(\"Standard dev: \", scores.std())"
   ]
  },
  {
   "cell_type": "code",
   "execution_count": 12,
   "metadata": {},
   "outputs": [
    {
     "name": "stdout",
     "output_type": "stream",
     "text": [
      "Scores:  [2.90747998 2.8248946  2.97493697 2.70042158 2.99863486 2.74915219\n",
      " 5.4183665  2.81154813 3.55632615 3.3851061 ]\n",
      "Mean:  3.2326867077639405\n",
      "Standard dev:  0.7741388017210186\n"
     ]
    }
   ],
   "source": [
    "print_scores(rmse_scores) "
   ]
  },
  {
   "cell_type": "code",
   "execution_count": null,
   "metadata": {},
   "outputs": [],
   "source": [
    "#Linear Regressor\n",
    "'''\n",
    "Scores:  [4.92076578 3.66209052 4.87432846 3.43131855 5.51149488 4.9301172\n",
    " 6.63832359 4.90341979 4.81343358 5.43232885]\n",
    "Mean:  4.911762121417897\n",
    "Standard dev:  0.8588732867468863\n",
    "'''\n",
    "\n",
    "#Decision tree Regressor\n",
    "'''\n",
    "Scores:  [4.90170829 3.92303869 3.97743636 3.58909848 3.4737889  3.74588146\n",
    " 6.0882655  4.00572265 6.64531659 4.04661788]\n",
    "Mean:  4.439687479573985\n",
    "Standard dev:  1.0371755990423603\n",
    "'''\n",
    "\n",
    "#Random Forest Regressor\n",
    "'''\n",
    "Scores:  [2.90747998 2.8248946  2.97493697 2.70042158 2.99863486 2.74915219\n",
    " 5.4183665  2.81154813 3.55632615 3.3851061 ]\n",
    "Mean:  3.2326867077639405\n",
    "Standard dev:  0.7741388017210186\n",
    "'''"
   ]
  },
  {
   "cell_type": "code",
   "execution_count": 17,
   "metadata": {},
   "outputs": [
    {
     "data": {
      "text/plain": [
       "['housing.joblib']"
      ]
     },
     "execution_count": 17,
     "metadata": {},
     "output_type": "execute_result"
    }
   ],
   "source": [
    "#saving the model\n",
    "\n",
    "from joblib import dump, load\n",
    "dump(model, 'housing.joblib')"
   ]
  },
  {
   "cell_type": "code",
   "execution_count": 18,
   "metadata": {},
   "outputs": [
    {
     "name": "stdout",
     "output_type": "stream",
     "text": [
      "Final rmse:  3.0830751288283604\n"
     ]
    }
   ],
   "source": [
    "#testing the model\n",
    "\n",
    "X_test = strat_test_set.drop('MEDV', axis = 1)\n",
    "Y_test = strat_test_set['MEDV'].copy()\n",
    "\n",
    "X_test_prepared = my_pipeline.transform(X_test)\n",
    "final_predictions = model.predict(X_test_prepared)\n",
    "\n",
    "final_mse = mean_squared_error(Y_test, final_predictions)\n",
    "final_rmse = np.sqrt(final_mse)\n",
    "\n",
    "print(\"Final rmse: \", final_rmse)"
   ]
  },
  {
   "cell_type": "code",
   "execution_count": 20,
   "metadata": {},
   "outputs": [
    {
     "data": {
      "text/plain": [
       "array([23.334])"
      ]
     },
     "execution_count": 20,
     "metadata": {},
     "output_type": "execute_result"
    }
   ],
   "source": [
    "#using the model\n",
    "\n",
    "from joblib import dump, load\n",
    "import numpy as np\n",
    "\n",
    "model = load('housing.joblib')\n",
    "features = np.array([X_test_prepared[1]])\n",
    "model.predict(features)"
   ]
  }
 ],
 "metadata": {
  "kernelspec": {
   "display_name": "Python 3",
   "language": "python",
   "name": "python3"
  },
  "language_info": {
   "codemirror_mode": {
    "name": "ipython",
    "version": 3
   },
   "file_extension": ".py",
   "mimetype": "text/x-python",
   "name": "python",
   "nbconvert_exporter": "python",
   "pygments_lexer": "ipython3",
   "version": "3.8.5"
  }
 },
 "nbformat": 4,
 "nbformat_minor": 4
}
